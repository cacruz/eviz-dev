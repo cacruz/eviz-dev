{
 "cells": [
  {
   "cell_type": "markdown",
   "metadata": {},
   "source": [
    "# Running eViz with a Remote OpenDAP Data Source\n",
    "\n",
    "This notebook demonstrates how to use the eViz tool to generate plots from a remote OpenDAP data source using the configuration in `config/gridded/gridded.yaml`.\n",
    "\n",
    "## Prerequisites\n",
    "\n",
    "- All required dependencies are installed (see project documentation).\n",
    "- The `autoviz.py` script and the `config/gridded/gridded.yaml` configuration file are present.\n",
    "- This notebook is run from the root of your project."
   ]
  },
  {
   "cell_type": "markdown",
   "metadata": {},
   "source": [
    "## Configuration\n",
    "\n",
    "The file `config/gridded/gridded.yaml` should look like this:\n",
    "```yaml\n",
    "inputs:\n",
    "   - name: https://psl.noaa.gov/thredds/dodsC/Datasets/ncep.reanalysis.derived/surface/air.mon.mean.nc\n",
    "     description: NCEP/NCAR Reanalysis Monthly Mean Air Temperature\n",
    "     to_plot:\n",
    "        air: xt,xy,tx\n",
    "\n",
    "outputs:\n",
    "    print_to_file: yes\n",
    "    print_format: jpg\n",
    "```\n",
    "This configuration tells eViz to:\n",
    "- Load the `air.mon.mean.nc` dataset from a remote OpenDAP server.\n",
    "- Generate three types of plots for the `air` variable: `xt`, `xy`, and `tx`.\n",
    "- Save the output plots as `.jpg` files."
   ]
  },
  {
   "cell_type": "markdown",
   "metadata": {},
   "source": [
    "## Run eViz from the Notebook\n",
    "\n",
    "You can run the eViz tool directly from a notebook cell using the `!` shell command:"
   ]
  },
  {
   "cell_type": "code",
   "execution_count": null,
   "metadata": {},
   "outputs": [],
   "source": [
    "!python autoviz.py -s gridded"
   ]
  },
  {
   "cell_type": "markdown",
   "metadata": {},
   "source": [
    "## List the Output Plots\n",
    "\n",
    "After running, you can list the generated plot files:"
   ]
  },
  {
   "cell_type": "code",
   "execution_count": null,
   "metadata": {},
   "outputs": [],
   "source": [
    "import os\n",
    "output_dir = './output_plots'\n",
    "if os.path.exists(output_dir):\n",
    "    for fname in os.listdir(output_dir):\n",
    "        if fname.endswith('.jpg'):\n",
    "            print(fname)\n",
    "else:\n",
    "    print('No output_plots directory found.')"
   ]
  },
  {
   "cell_type": "markdown",
   "metadata": {},
   "source": [
    "## Display a Plot Inline\n",
    "\n",
    "You can display one of the generated plots directly in the notebook:"
   ]
  },
  {
   "cell_type": "code",
   "execution_count": null,
   "metadata": {},
   "outputs": [],
   "source": [
    "from IPython.display import Image, display\n",
    "\n",
    "plot_path = os.path.join(output_dir, 'air_xt_0_0.jpg')  # Change filename as needed\n",
    "if os.path.exists(plot_path):\n",
    "    display(Image(filename=plot_path))\n",
    "else:\n",
    "    print(f'Plot not found: {plot_path}')"
   ]
  },
  {
   "cell_type": "markdown",
   "metadata": {},
   "source": [
    "## Troubleshooting\n",
    "\n",
    "- If you see errors about missing dependencies, install them with:\n",
    "  ```python\n",
    "  !pip install -r requirements.txt\n",
    "  ```\n",
    "- If you see errors about missing files or failed downloads, check your internet connection and the OpenDAP URL.\n"
   ]
  }
 ],
 "metadata": {
  "kernelspec": {
   "display_name": "Python 3 (ipykernel)",
   "language": "python",
   "name": "python3"
  },
  "language_info": {
   "codemirror_mode": {
    "name": "ipython",
    "version": 3
   },
   "file_extension": ".py",
   "mimetype": "text/x-python",
   "name": "python",
   "nbconvert_exporter": "python",
   "pygments_lexer": "ipython3",
   "version": "3.10.15"
  }
 },
 "nbformat": 4,
 "nbformat_minor": 4
}
