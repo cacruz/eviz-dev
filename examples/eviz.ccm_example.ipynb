{
 "cells": [
  {
   "cell_type": "markdown",
   "id": "72af3ee4-0f1e-4922-ba1c-00415cfe873c",
   "metadata": {},
   "source": [
    "Though __EViz__ is designed to run from the command line you can still run it in a Jupyter notebook as shown below.\n",
    "\n",
    "**On DISCOVER, make sure you start the notebook from the _viz_ environment**"
   ]
  },
  {
   "cell_type": "markdown",
   "id": "9e8d83b7-b421-4ee6-a06f-a681075929fd",
   "metadata": {},
   "source": [
    "### autoViz example"
   ]
  },
  {
   "cell_type": "code",
   "execution_count": null,
   "id": "a73fc27b-eca2-439a-9f64-94f8720dc1fb",
   "metadata": {},
   "outputs": [],
   "source": [
    "from eviz.lib.autoviz.base import Autoviz"
   ]
  },
  {
   "cell_type": "code",
   "execution_count": null,
   "id": "6edfffb7-977d-464b-ad59-a961cac1c860",
   "metadata": {},
   "outputs": [],
   "source": [
    "# To run this cell your config/ccm/ccm.yaml file must be properly configured\n",
    "my_viz = Autoviz(['ccm'])"
   ]
  },
  {
   "cell_type": "code",
   "execution_count": null,
   "id": "1303ad57-cfa8-4d97-b7f6-4e9d33c34938",
   "metadata": {},
   "outputs": [],
   "source": [
    "my_viz.run()"
   ]
  }
 ],
 "metadata": {
  "interpreter": {
   "hash": "61d4b9909363a31b5dedd1a7025e3c67071e998ca86898fc8d75053b161754e7"
  },
  "kernelspec": {
   "display_name": "viz",
   "language": "python",
   "name": "viz"
  },
  "language_info": {
   "codemirror_mode": {
    "name": "ipython",
    "version": 3
   },
   "file_extension": ".py",
   "mimetype": "text/x-python",
   "name": "python",
   "nbconvert_exporter": "python",
   "pygments_lexer": "ipython3",
   "version": "3.10.15"
  }
 },
 "nbformat": 4,
 "nbformat_minor": 5
}
