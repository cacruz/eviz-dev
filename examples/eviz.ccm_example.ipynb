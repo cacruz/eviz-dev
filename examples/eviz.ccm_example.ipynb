{
 "cells": [
  {
   "cell_type": "markdown",
   "id": "72af3ee4-0f1e-4922-ba1c-00415cfe873c",
   "metadata": {},
   "source": [
    "## Use this notebook to run _iViz_ or _autoViz_.\n",
    "\n",
    "Though __EViz__ apps are designed to run from the command line you can still run them in a Jupyter notebook as shown below.\n",
    "\n",
    "**On DISCOVER, make sure you start the notebook from the _viz_ environment**"
   ]
  },
  {
   "cell_type": "markdown",
   "id": "f60f590a-af0b-4329-8195-c76faa2be6ed",
   "metadata": {},
   "source": [
    "### iViz example"
   ]
  },
  {
   "cell_type": "code",
   "execution_count": null,
   "id": "efcd0dc6-23dc-482a-9b4c-a6d84ee08d30",
   "metadata": {},
   "outputs": [],
   "source": [
    "import os\n",
    "import sys\n",
    "module_path = os.path.abspath(os.path.join('..'))\n",
    "os.chdir(module_path)"
   ]
  },
  {
   "cell_type": "code",
   "execution_count": null,
   "id": "7bc79758-5111-4127-9d21-771886a49cfb",
   "metadata": {},
   "outputs": [],
   "source": [
    "from eviz.lib.iviz_base import Iviz\n",
    "iviz = Iviz()"
   ]
  },
  {
   "cell_type": "code",
   "execution_count": null,
   "id": "85d820ae-8914-480d-9dba-f274fa2fb138",
   "metadata": {},
   "outputs": [],
   "source": [
    "# This works without modification on DISCOVER. \n",
    "# For other systems, make sure your configuration files are properly configured as described in\n",
    "# the online user's guide here: https://astg.pages.smce.nasa.gov/visualization/eviz/\n",
    "\n",
    "iviz.make_notebook(s='ccm')"
   ]
  },
  {
   "cell_type": "markdown",
   "id": "9e8d83b7-b421-4ee6-a06f-a681075929fd",
   "metadata": {},
   "source": [
    "### autoViz example"
   ]
  },
  {
   "cell_type": "code",
   "execution_count": null,
   "id": "a73fc27b-eca2-439a-9f64-94f8720dc1fb",
   "metadata": {},
   "outputs": [],
   "source": [
    "from eviz.lib.autoviz.base import Autoviz"
   ]
  },
  {
   "cell_type": "code",
   "execution_count": null,
   "id": "6edfffb7-977d-464b-ad59-a961cac1c860",
   "metadata": {},
   "outputs": [],
   "source": [
    "# To run this cell your config/ccm.yaml file must be properly configured\n",
    "aviz = Autoviz(['ccm'])"
   ]
  },
  {
   "cell_type": "code",
   "execution_count": null,
   "id": "1303ad57-cfa8-4d97-b7f6-4e9d33c34938",
   "metadata": {},
   "outputs": [],
   "source": [
    "aviz.run()"
   ]
  },
  {
   "cell_type": "code",
   "execution_count": null,
   "id": "50c07863-6c68-4ca4-96c3-fbadfa35c19e",
   "metadata": {},
   "outputs": [],
   "source": []
  }
 ],
 "metadata": {
  "interpreter": {
   "hash": "61d4b9909363a31b5dedd1a7025e3c67071e998ca86898fc8d75053b161754e7"
  },
  "kernelspec": {
   "display_name": "viz",
   "language": "python",
   "name": "viz"
  },
  "language_info": {
   "codemirror_mode": {
    "name": "ipython",
    "version": 3
   },
   "file_extension": ".py",
   "mimetype": "text/x-python",
   "name": "python",
   "nbconvert_exporter": "python",
   "pygments_lexer": "ipython3",
   "version": "3.10.15"
  }
 },
 "nbformat": 4,
 "nbformat_minor": 5
}
